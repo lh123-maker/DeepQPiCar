{
 "cells": [
  {
   "cell_type": "code",
   "execution_count": 1,
   "metadata": {
    "collapsed": true
   },
   "outputs": [],
   "source": [
    "'''\n",
    "A linear regression learning algorithm example using TensorFlow library.\n",
    "\n",
    "Author: Aymeric Damien\n",
    "Project: https://github.com/aymericdamien/TensorFlow-Examples/\n",
    "'''\n",
    "\n",
    "from __future__ import print_function\n",
    "\n",
    "import glob\n",
    "import pickle\n",
    "\n",
    "import tensorflow as tf\n",
    "import numpy as np\n",
    "import matplotlib.pyplot as plt\n",
    "\n",
    "%matplotlib inline"
   ]
  },
  {
   "cell_type": "code",
   "execution_count": 2,
   "metadata": {},
   "outputs": [
    {
     "name": "stdout",
     "output_type": "stream",
     "text": [
      "num samples 6402\n"
     ]
    }
   ],
   "source": [
    "\n",
    "\n",
    "# Parameters\n",
    "learning_rate = 1e-4\n",
    "training_epochs = 1000\n",
    "display_step = 50\n",
    "\n",
    "files = glob.glob('/home/sameh/distance_data/*.p')\n",
    "data = dict()\n",
    "for f in files:\n",
    "    data.update(pickle.load(open(f, 'rb')))\n",
    "\n",
    "_X = []\n",
    "_Y = []\n",
    "\n",
    "for time, _data in data.items():\n",
    "   _X.append(_data['signal_level'])\n",
    "   _Y.append(_data['distance_cm']) \n",
    "\n",
    "\n",
    "_X_train = _X[:int(.7*len(_X))]\n",
    "_Y_train = _Y[:int(.7*len(_X))]\n",
    "\n",
    "_X_test = _X[int(.7*len(_X)):]\n",
    "_Y_test = _Y[int(.7*len(_X)):]\n",
    "\n",
    "\n",
    "test_X = np.array(_X_test)\n",
    "test_Y = np.array(_Y_test)\n",
    "    \n",
    "# Training Data\n",
    "train_X = np.array(_X_train)\n",
    "train_Y = np.array(_Y_train)\n",
    "\n",
    "n_samples = train_X.shape[0]\n",
    "\n",
    "print(\"num samples {}\".format(n_samples))\n",
    "\n",
    "# %% tf.placeholders for the input and output of the network. Placeholders are\n",
    "# variables which we need to fill in when we are ready to compute the graph.\n",
    "X = tf.placeholder(tf.float32)\n",
    "Y = tf.placeholder(tf.float32)\n",
    "\n",
    "# %% Instead of a single factor and a bias, we'll create a polynomial function\n",
    "# of different polynomial degrees.  We will then learn the influence that each\n",
    "# degree of the input (X^0, X^1, X^2, ...) has on the final output (Y).\n",
    "Y_pred = tf.Variable(tf.random_normal([1]), name='bias')\n",
    "for pow_i in range(1, 3):\n",
    "    W = tf.Variable(tf.random_normal([1]), name='weight_%d' % pow_i)\n",
    "    Y_pred = tf.add(tf.multiply(tf.pow(X, pow_i), W), Y_pred)\n",
    "\n",
    "# Mean squared error\n",
    "# %% Loss function will measure the distance between our observations\n",
    "# and predictions and average over them.\n",
    "cost = tf.reduce_sum(tf.pow(Y_pred - Y, 2)) / (n_samples - 1)\n",
    "\n",
    "# cost = tf.reduce_sum(tf.pow(Y_pred - Y, 2))/(2*n_samples)\n",
    "# Gradient descent\n",
    "#  Note, minimize() knows to modify W and b because Variable objects are trainable=True by default\n",
    "optimizer = tf.train.AdamOptimizer(learning_rate).minimize(cost)\n",
    "\n",
    "# Initializing the variables\n",
    "# init = tf.global_variables_initializer()\n",
    "\n",
    "#Create a saver object which will save all the variables\n",
    "saver = tf.train.Saver()"
   ]
  },
  {
   "cell_type": "code",
   "execution_count": 3,
   "metadata": {},
   "outputs": [
    {
     "name": "stdout",
     "output_type": "stream",
     "text": [
      "202838.0\n",
      "1.16069\n",
      "1.01955\n",
      "1.01669\n",
      "1.01398\n",
      "1.01129\n",
      "1.0086\n",
      "1.00591\n",
      "1.00322\n",
      "1.00054\n",
      "0.997875\n",
      "0.995206\n",
      "0.992549\n",
      "0.989894\n",
      "0.987248\n",
      "0.984603\n",
      "0.981968\n",
      "0.979335\n",
      "0.976698\n",
      "0.974078\n",
      "0.97146\n",
      "0.968852\n",
      "0.966243\n",
      "0.963647\n",
      "0.961055\n",
      "0.95846\n",
      "0.95588\n",
      "0.9533\n",
      "0.950734\n",
      "0.948166\n",
      "0.9456\n",
      "0.943055\n",
      "0.940506\n",
      "0.937959\n",
      "0.935426\n",
      "0.932888\n",
      "0.930364\n",
      "0.92785\n",
      "0.925336\n",
      "0.922822\n",
      "0.920318\n",
      "0.917824\n",
      "0.915334\n",
      "0.912847\n",
      "0.91037\n",
      "0.907893\n",
      "0.905425\n",
      "0.902965\n",
      "0.90051\n",
      "0.898057\n"
     ]
    }
   ],
   "source": [
    "sess = tf.Session()\n",
    "    \n",
    "sess.run(tf.global_variables_initializer())\n",
    "\n",
    "# Fit all training data\n",
    "prev_training_cost = 0.0\n",
    "for epoch_i in range(training_epochs):\n",
    "    for (x, y) in zip(train_X, train_Y):\n",
    "        sess.run(optimizer, feed_dict={X: x, Y: y})\n",
    "    training_cost = sess.run(\n",
    "        cost, feed_dict={X: train_X, Y: train_Y})\n",
    "        \n",
    "    if epoch_i % 20 == 0:\n",
    "        print(training_cost)\n",
    "            "
   ]
  },
  {
   "cell_type": "code",
   "execution_count": 4,
   "metadata": {},
   "outputs": [
    {
     "name": "stderr",
     "output_type": "stream",
     "text": [
      "/usr/lib/python2.7/dist-packages/matplotlib/collections.py:571: FutureWarning: elementwise comparison failed; returning scalar instead, but in the future will perform elementwise comparison\n",
      "  if self._edgecolors == str('face'):\n"
     ]
    },
    {
     "data": {
      "image/png": "[encoded data removed]",
      "text/plain": [
       "<matplotlib.figure.Figure at 0x7f489e98cb90>"
      ]
     },
     "metadata": {},
     "output_type": "display_data"
    }
   ],
   "source": [
    "plt.scatter(test_X, Y_pred.eval(feed_dict={X: test_X}, session=sess), color='r')\n",
    "plt.scatter(test_X, test_Y, color='g')\n",
    "plt.show()"
   ]
  },
  {
   "cell_type": "code",
   "execution_count": null,
   "metadata": {
    "collapsed": true
   },
   "outputs": [],
   "source": []
  }
 ],
 "metadata": {
  "kernelspec": {
   "display_name": "Python 2",
   "language": "python",
   "name": "python2"
  },
  "language_info": {
   "codemirror_mode": {
    "name": "ipython",
    "version": 2
   },
   "file_extension": ".py",
   "mimetype": "text/x-python",
   "name": "python",
   "nbconvert_exporter": "python",
   "pygments_lexer": "ipython2",
   "version": "2.7.9"
  }
 },
 "nbformat": 4,
 "nbformat_minor": 2
}
